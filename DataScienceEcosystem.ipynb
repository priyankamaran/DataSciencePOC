{
 "cells": [
  {
   "cell_type": "markdown",
   "id": "8664ac9d-0c3a-458e-977f-c50507fb8764",
   "metadata": {},
   "source": [
    "# Data Science Tools and Ecosystem"
   ]
  },
  {
   "cell_type": "markdown",
   "id": "40b76897-000d-44e1-9169-e8259514b7d0",
   "metadata": {},
   "source": [
    "##### In this notebook, Data Science Tools and Ecosystem are summarized."
   ]
  },
  {
   "cell_type": "markdown",
   "id": "21a80201-7d63-4b53-a6af-d9d6b592fceb",
   "metadata": {},
   "source": [
    "**Objectives:**\n",
    "* List popular data science tools\n",
    "* Popular data science libraries\n",
    "* Popular data science execution environments\n",
    "* Arithmetic expressions"
   ]
  },
  {
   "cell_type": "markdown",
   "id": "f0cfc489-af68-4753-ab47-eb5873050103",
   "metadata": {},
   "source": [
    "## Author\n",
    "Priyanka"
   ]
  },
  {
   "cell_type": "markdown",
   "id": "ee05b7e9-1dc5-46ec-b2d0-d4abb4a801e3",
   "metadata": {},
   "source": [
    "##### Some of the popular languages that Data Scientists use are:\n",
    "1. Python\n",
    "2. Scala\n",
    "3. R\n",
    "4. Julia"
   ]
  },
  {
   "cell_type": "markdown",
   "id": "cf0b7b30-eedc-4565-986b-fea0c397c9fc",
   "metadata": {},
   "source": [
    "##### Some of the commonly used libraries used by Data Scientists include:\n",
    "1. Matplotlib\n",
    "2. Pandas\n",
    "3. SciPy\n",
    "4. NumPy"
   ]
  },
  {
   "cell_type": "markdown",
   "id": "32d944c5-0340-4e77-ba12-58bdb0f59f18",
   "metadata": {},
   "source": [
    "| Data Science Tools |\n",
    "| ------------------- |\n",
    "| JupyterLab |\n",
    "| R Studio |\n",
    "| Zeppelin notebook |"
   ]
  },
  {
   "cell_type": "markdown",
   "id": "cff3dad5-a930-4677-b434-4987253cbca3",
   "metadata": {},
   "source": [
    "#### Below are a few examples of evaluating arithmetic expressions in Python"
   ]
  },
  {
   "cell_type": "code",
   "execution_count": 1,
   "id": "a168531b-48f6-4e41-a6fe-6916a08bf131",
   "metadata": {},
   "outputs": [
    {
     "data": {
      "text/plain": [
       "17"
      ]
     },
     "execution_count": 1,
     "metadata": {},
     "output_type": "execute_result"
    }
   ],
   "source": [
    "# This a simple arithmetic expression to mutiply then add integers\n",
    "(3*4)+5"
   ]
  },
  {
   "cell_type": "code",
   "execution_count": 3,
   "id": "112d8e5d-b061-4660-b5cd-8a04e4d4cd5c",
   "metadata": {},
   "outputs": [
    {
     "name": "stdout",
     "output_type": "stream",
     "text": [
      "3\n"
     ]
    }
   ],
   "source": [
    "# This will convert 200 minutes to hours by diving by 60\n",
    "minutes = 200\n",
    "hours = minutes // 60\n",
    "print (hours)"
   ]
  },
  {
   "cell_type": "code",
   "execution_count": null,
   "id": "d4c769f6-af7d-479c-a7c1-fc3be68895fd",
   "metadata": {},
   "outputs": [],
   "source": []
  }
 ],
 "metadata": {
  "kernelspec": {
   "display_name": "Python 3 (ipykernel)",
   "language": "python",
   "name": "python3"
  },
  "language_info": {
   "codemirror_mode": {
    "name": "ipython",
    "version": 3
   },
   "file_extension": ".py",
   "mimetype": "text/x-python",
   "name": "python",
   "nbconvert_exporter": "python",
   "pygments_lexer": "ipython3",
   "version": "3.10.4"
  }
 },
 "nbformat": 4,
 "nbformat_minor": 5
}
